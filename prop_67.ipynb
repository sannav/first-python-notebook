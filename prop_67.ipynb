{
 "cells": [
  {
   "cell_type": "markdown",
   "metadata": {},
   "source": [
    "# Prop. 67: Plastic Bag Ban\n",
    "After [First Python Notbook](http://www.firstpythonnotebook.org \"First Python Notbook\") by **Ben Welsh**. Comments (partly in in Swedish) by <a href=\"mailto:sanna.volny@gmail.com?Subject=First_Python_Notebook\" target=\"_top\">Sanna Volny</a>."
   ]
  },
  {
   "cell_type": "code",
   "execution_count": 1,
   "metadata": {},
   "outputs": [
    {
     "data": {
      "text/html": [
       "<div>\n",
       "<style>\n",
       "    .dataframe thead tr:only-child th {\n",
       "        text-align: right;\n",
       "    }\n",
       "\n",
       "    .dataframe thead th {\n",
       "        text-align: left;\n",
       "    }\n",
       "\n",
       "    .dataframe tbody tr th {\n",
       "        vertical-align: top;\n",
       "    }\n",
       "</style>\n",
       "<table border=\"1\" class=\"dataframe\">\n",
       "  <thead>\n",
       "    <tr style=\"text-align: right;\">\n",
       "      <th></th>\n",
       "      <th>ocd_prop_id</th>\n",
       "      <th>calaccess_prop_id</th>\n",
       "      <th>ccdc_prop_id</th>\n",
       "      <th>prop_name</th>\n",
       "      <th>ccdc_committee_id</th>\n",
       "      <th>calaccess_committee_id</th>\n",
       "      <th>committee_name</th>\n",
       "      <th>committee_position</th>\n",
       "    </tr>\n",
       "  </thead>\n",
       "  <tbody>\n",
       "    <tr>\n",
       "      <th>95</th>\n",
       "      <td>ocd-contest/7495cdbe-1aa7-4c26-9a55-aa4130347b95</td>\n",
       "      <td>1372638</td>\n",
       "      <td>86</td>\n",
       "      <td>PROPOSITION 067- REFERENDUM TO OVERTURN BAN ON...</td>\n",
       "      <td>477</td>\n",
       "      <td>1372900</td>\n",
       "      <td>YES ON 67 - PROTECT THE PLASTIC BAG BAN, SPONS...</td>\n",
       "      <td>SUPPORT</td>\n",
       "    </tr>\n",
       "    <tr>\n",
       "      <th>96</th>\n",
       "      <td>ocd-contest/7495cdbe-1aa7-4c26-9a55-aa4130347b95</td>\n",
       "      <td>1372638</td>\n",
       "      <td>86</td>\n",
       "      <td>PROPOSITION 067- REFERENDUM TO OVERTURN BAN ON...</td>\n",
       "      <td>478</td>\n",
       "      <td>1372902</td>\n",
       "      <td>AMERICAN PROGRESSIVE BAG ALLIANCE, A PROJECT O...</td>\n",
       "      <td>OPPOSE</td>\n",
       "    </tr>\n",
       "    <tr>\n",
       "      <th>97</th>\n",
       "      <td>ocd-contest/7495cdbe-1aa7-4c26-9a55-aa4130347b95</td>\n",
       "      <td>1372638</td>\n",
       "      <td>86</td>\n",
       "      <td>PROPOSITION 067- REFERENDUM TO OVERTURN BAN ON...</td>\n",
       "      <td>479</td>\n",
       "      <td>1329332</td>\n",
       "      <td>SAVE THE BAG BAN, YES ON 67, SPONSORED BY ENVI...</td>\n",
       "      <td>SUPPORT</td>\n",
       "    </tr>\n",
       "    <tr>\n",
       "      <th>98</th>\n",
       "      <td>ocd-contest/7495cdbe-1aa7-4c26-9a55-aa4130347b95</td>\n",
       "      <td>1372638</td>\n",
       "      <td>86</td>\n",
       "      <td>PROPOSITION 067- REFERENDUM TO OVERTURN BAN ON...</td>\n",
       "      <td>480</td>\n",
       "      <td>1374885</td>\n",
       "      <td>YES ON 67 - CALIFORNIANS AGAINST WASTE - PROTE...</td>\n",
       "      <td>SUPPORT</td>\n",
       "    </tr>\n",
       "    <tr>\n",
       "      <th>99</th>\n",
       "      <td>ocd-contest/7495cdbe-1aa7-4c26-9a55-aa4130347b95</td>\n",
       "      <td>1372638</td>\n",
       "      <td>86</td>\n",
       "      <td>PROPOSITION 067- REFERENDUM TO OVERTURN BAN ON...</td>\n",
       "      <td>481</td>\n",
       "      <td>1346973</td>\n",
       "      <td>CALIFORNIA GROCERS ASSOCIATION ISSUES COMMITTE...</td>\n",
       "      <td>SUPPORT</td>\n",
       "    </tr>\n",
       "  </tbody>\n",
       "</table>\n",
       "</div>"
      ],
      "text/plain": [
       "                                         ocd_prop_id  calaccess_prop_id  \\\n",
       "95  ocd-contest/7495cdbe-1aa7-4c26-9a55-aa4130347b95            1372638   \n",
       "96  ocd-contest/7495cdbe-1aa7-4c26-9a55-aa4130347b95            1372638   \n",
       "97  ocd-contest/7495cdbe-1aa7-4c26-9a55-aa4130347b95            1372638   \n",
       "98  ocd-contest/7495cdbe-1aa7-4c26-9a55-aa4130347b95            1372638   \n",
       "99  ocd-contest/7495cdbe-1aa7-4c26-9a55-aa4130347b95            1372638   \n",
       "\n",
       "    ccdc_prop_id                                          prop_name  \\\n",
       "95            86  PROPOSITION 067- REFERENDUM TO OVERTURN BAN ON...   \n",
       "96            86  PROPOSITION 067- REFERENDUM TO OVERTURN BAN ON...   \n",
       "97            86  PROPOSITION 067- REFERENDUM TO OVERTURN BAN ON...   \n",
       "98            86  PROPOSITION 067- REFERENDUM TO OVERTURN BAN ON...   \n",
       "99            86  PROPOSITION 067- REFERENDUM TO OVERTURN BAN ON...   \n",
       "\n",
       "    ccdc_committee_id  calaccess_committee_id  \\\n",
       "95                477                 1372900   \n",
       "96                478                 1372902   \n",
       "97                479                 1329332   \n",
       "98                480                 1374885   \n",
       "99                481                 1346973   \n",
       "\n",
       "                                       committee_name committee_position  \n",
       "95  YES ON 67 - PROTECT THE PLASTIC BAG BAN, SPONS...            SUPPORT  \n",
       "96  AMERICAN PROGRESSIVE BAG ALLIANCE, A PROJECT O...             OPPOSE  \n",
       "97  SAVE THE BAG BAN, YES ON 67, SPONSORED BY ENVI...            SUPPORT  \n",
       "98  YES ON 67 - CALIFORNIANS AGAINST WASTE - PROTE...            SUPPORT  \n",
       "99  CALIFORNIA GROCERS ASSOCIATION ISSUES COMMITTE...            SUPPORT  "
      ]
     },
     "execution_count": 1,
     "metadata": {},
     "output_type": "execute_result"
    }
   ],
   "source": [
    "import pandas as pd\n",
    "# importera csv-filer till variblerna props (kommittéer som stödjer/motsätter sig propositioner i valet 2016 i Kalifornien) och contribs (kampanjbidragsgivare)\n",
    "props = pd.read_csv(\"http://www.firstpythonnotebook.org/_static/committees.csv\")\n",
    "contribs = pd.read_csv(\"http://www.firstpythonnotebook.org/_static/contributions.csv\")\n",
    "# skapa en variabel av alla kommittéer som stödjer/motsätter sig proposition 67 om att förbjuda plastpåsar\n",
    "prop67 = props[props.prop_name == 'PROPOSITION 067- REFERENDUM TO OVERTURN BAN ON SINGLE-USE PLASTIC BAGS.']\n",
    "# Visa de 5 första posterna\n",
    "prop67.head()"
   ]
  },
  {
   "cell_type": "markdown",
   "metadata": {},
   "source": [
    "** How many supports/opposes the plastic bag ban in California? **"
   ]
  },
  {
   "cell_type": "code",
   "execution_count": 2,
   "metadata": {},
   "outputs": [
    {
     "data": {
      "text/plain": [
       "SUPPORT    6252\n",
       "OPPOSE       27\n",
       "Name: committee_position, dtype: int64"
      ]
     },
     "execution_count": 2,
     "metadata": {},
     "output_type": "execute_result"
    }
   ],
   "source": [
    "merged = pd.merge(prop67, contribs, on=\"calaccess_committee_id\")\n",
    "merged.committee_position.value_counts()"
   ]
  },
  {
   "cell_type": "markdown",
   "metadata": {},
   "source": [
    "** How much money does each side get and what is the avarage contribution on each side? **"
   ]
  },
  {
   "cell_type": "code",
   "execution_count": 3,
   "metadata": {},
   "outputs": [
    {
     "data": {
      "text/plain": [
       "2681413.25"
      ]
     },
     "execution_count": 3,
     "metadata": {},
     "output_type": "execute_result"
    }
   ],
   "source": [
    "# OPPOSE:\n",
    "merged[merged.committee_position == 'OPPOSE'].amount.sum()"
   ]
  },
  {
   "cell_type": "code",
   "execution_count": 4,
   "metadata": {},
   "outputs": [
    {
     "data": {
      "text/plain": [
       "99311.601851851854"
      ]
     },
     "execution_count": 4,
     "metadata": {},
     "output_type": "execute_result"
    }
   ],
   "source": [
    "#merged[merged.committee_position == 'OPPOSE'].calaccess_committee_id.count()\n",
    "merged[merged.committee_position == 'OPPOSE'].amount.sum() / merged[merged.committee_position == 'OPPOSE'].calaccess_committee_id.count()"
   ]
  },
  {
   "cell_type": "code",
   "execution_count": 5,
   "metadata": {},
   "outputs": [
    {
     "data": {
      "text/plain": [
       "1789160.75"
      ]
     },
     "execution_count": 5,
     "metadata": {},
     "output_type": "execute_result"
    }
   ],
   "source": [
    "# SUPPORT:\n",
    "merged[merged.committee_position == 'SUPPORT'].amount.sum()"
   ]
  },
  {
   "cell_type": "code",
   "execution_count": 6,
   "metadata": {},
   "outputs": [
    {
     "data": {
      "text/plain": [
       "286.17414427383238"
      ]
     },
     "execution_count": 6,
     "metadata": {},
     "output_type": "execute_result"
    }
   ],
   "source": [
    "#merged[merged.committee_position == 'SUPPORT'].calaccess_committee_id.count()\n",
    "merged[merged.committee_position == 'SUPPORT'].amount.sum() / merged[merged.committee_position == 'SUPPORT'].calaccess_committee_id.count()"
   ]
  },
  {
   "cell_type": "markdown",
   "metadata": {},
   "source": [
    "**How much more does the average opposer give, compared to the avarage supporter?**"
   ]
  },
  {
   "cell_type": "code",
   "execution_count": 7,
   "metadata": {},
   "outputs": [
    {
     "data": {
      "text/plain": [
       "347.03205666554993"
      ]
     },
     "execution_count": 7,
     "metadata": {},
     "output_type": "execute_result"
    }
   ],
   "source": [
    "(merged[merged.committee_position == 'OPPOSE'].amount.sum() / merged[merged.committee_position == 'OPPOSE'].calaccess_committee_id.count())/(merged[merged.committee_position == 'SUPPORT'].amount.sum() / merged[merged.committee_position == 'SUPPORT'].calaccess_committee_id.count())"
   ]
  },
  {
   "cell_type": "markdown",
   "metadata": {},
   "source": [
    "So the average opposer gives 347 times as much! My hypothesis that the environmentalists give a little money per person and that those who oppose the plastic ban represents commercial interests and give more money seem to be right. Or? Who are the committées and contributers?"
   ]
  },
  {
   "cell_type": "code",
   "execution_count": 8,
   "metadata": {},
   "outputs": [
    {
     "data": {
      "text/html": [
       "<div>\n",
       "<style>\n",
       "    .dataframe thead tr:only-child th {\n",
       "        text-align: right;\n",
       "    }\n",
       "\n",
       "    .dataframe thead th {\n",
       "        text-align: left;\n",
       "    }\n",
       "\n",
       "    .dataframe tbody tr th {\n",
       "        vertical-align: top;\n",
       "    }\n",
       "</style>\n",
       "<table border=\"1\" class=\"dataframe\">\n",
       "  <thead>\n",
       "    <tr style=\"text-align: right;\">\n",
       "      <th></th>\n",
       "      <th>committee_name_x</th>\n",
       "      <th>committee_position</th>\n",
       "      <th>amount</th>\n",
       "    </tr>\n",
       "  </thead>\n",
       "  <tbody>\n",
       "    <tr>\n",
       "      <th>0</th>\n",
       "      <td>AMERICAN PROGRESSIVE BAG ALLIANCE, A PROJECT O...</td>\n",
       "      <td>OPPOSE</td>\n",
       "      <td>2681413.25</td>\n",
       "    </tr>\n",
       "    <tr>\n",
       "      <th>5</th>\n",
       "      <td>YES ON 67 - PROTECT THE PLASTIC BAG BAN, SPONS...</td>\n",
       "      <td>SUPPORT</td>\n",
       "      <td>861295.75</td>\n",
       "    </tr>\n",
       "    <tr>\n",
       "      <th>2</th>\n",
       "      <td>SAVE THE BAG BAN, YES ON 67, SPONSORED BY ENVI...</td>\n",
       "      <td>SUPPORT</td>\n",
       "      <td>609365.00</td>\n",
       "    </tr>\n",
       "    <tr>\n",
       "      <th>1</th>\n",
       "      <td>CALIFORNIA GROCERS ASSOCIATION ISSUES COMMITTE...</td>\n",
       "      <td>SUPPORT</td>\n",
       "      <td>200000.00</td>\n",
       "    </tr>\n",
       "    <tr>\n",
       "      <th>3</th>\n",
       "      <td>SAVE THE BAY ACTION FUND COMMITTEE TO SUPPORT ...</td>\n",
       "      <td>SUPPORT</td>\n",
       "      <td>97050.00</td>\n",
       "    </tr>\n",
       "    <tr>\n",
       "      <th>4</th>\n",
       "      <td>YES ON 67 - CALIFORNIANS AGAINST WASTE - PROTE...</td>\n",
       "      <td>SUPPORT</td>\n",
       "      <td>21450.00</td>\n",
       "    </tr>\n",
       "  </tbody>\n",
       "</table>\n",
       "</div>"
      ],
      "text/plain": [
       "                                    committee_name_x committee_position  \\\n",
       "0  AMERICAN PROGRESSIVE BAG ALLIANCE, A PROJECT O...             OPPOSE   \n",
       "5  YES ON 67 - PROTECT THE PLASTIC BAG BAN, SPONS...            SUPPORT   \n",
       "2  SAVE THE BAG BAN, YES ON 67, SPONSORED BY ENVI...            SUPPORT   \n",
       "1  CALIFORNIA GROCERS ASSOCIATION ISSUES COMMITTE...            SUPPORT   \n",
       "3  SAVE THE BAY ACTION FUND COMMITTEE TO SUPPORT ...            SUPPORT   \n",
       "4  YES ON 67 - CALIFORNIANS AGAINST WASTE - PROTE...            SUPPORT   \n",
       "\n",
       "       amount  \n",
       "0  2681413.25  \n",
       "5   861295.75  \n",
       "2   609365.00  \n",
       "1   200000.00  \n",
       "3    97050.00  \n",
       "4    21450.00  "
      ]
     },
     "execution_count": 8,
     "metadata": {},
     "output_type": "execute_result"
    }
   ],
   "source": [
    "merged.groupby([\"committee_name_x\", \"committee_position\"]).amount.sum().reset_index().sort_values('amount', ascending=False)"
   ]
  },
  {
   "cell_type": "code",
   "execution_count": 22,
   "metadata": {},
   "outputs": [
    {
     "data": {
      "text/html": [
       "<div>\n",
       "<style>\n",
       "    .dataframe thead tr:only-child th {\n",
       "        text-align: right;\n",
       "    }\n",
       "\n",
       "    .dataframe thead th {\n",
       "        text-align: left;\n",
       "    }\n",
       "\n",
       "    .dataframe tbody tr th {\n",
       "        vertical-align: top;\n",
       "    }\n",
       "</style>\n",
       "<table border=\"1\" class=\"dataframe\">\n",
       "  <thead>\n",
       "    <tr style=\"text-align: right;\">\n",
       "      <th></th>\n",
       "      <th>contributor_firstname</th>\n",
       "      <th>contributor_lastname</th>\n",
       "      <th>committee_position</th>\n",
       "      <th>amount</th>\n",
       "    </tr>\n",
       "  </thead>\n",
       "  <tbody>\n",
       "    <tr>\n",
       "      <th>1019</th>\n",
       "      <td>JULIE</td>\n",
       "      <td>PACKARD</td>\n",
       "      <td>SUPPORT</td>\n",
       "      <td>105000.0</td>\n",
       "    </tr>\n",
       "    <tr>\n",
       "      <th>330</th>\n",
       "      <td>CLAIRE</td>\n",
       "      <td>PERRY</td>\n",
       "      <td>SUPPORT</td>\n",
       "      <td>100000.0</td>\n",
       "    </tr>\n",
       "    <tr>\n",
       "      <th>1912</th>\n",
       "      <td>THOMAS F</td>\n",
       "      <td>STEYER</td>\n",
       "      <td>SUPPORT</td>\n",
       "      <td>50000.0</td>\n",
       "    </tr>\n",
       "    <tr>\n",
       "      <th>102</th>\n",
       "      <td>ANNE G.</td>\n",
       "      <td>EARHART</td>\n",
       "      <td>SUPPORT</td>\n",
       "      <td>25000.0</td>\n",
       "    </tr>\n",
       "    <tr>\n",
       "      <th>1466</th>\n",
       "      <td>NANCY</td>\n",
       "      <td>BURNETT</td>\n",
       "      <td>SUPPORT</td>\n",
       "      <td>19000.0</td>\n",
       "    </tr>\n",
       "  </tbody>\n",
       "</table>\n",
       "</div>"
      ],
      "text/plain": [
       "     contributor_firstname contributor_lastname committee_position    amount\n",
       "1019                 JULIE              PACKARD            SUPPORT  105000.0\n",
       "330                 CLAIRE                PERRY            SUPPORT  100000.0\n",
       "1912              THOMAS F               STEYER            SUPPORT   50000.0\n",
       "102                ANNE G.              EARHART            SUPPORT   25000.0\n",
       "1466                 NANCY              BURNETT            SUPPORT   19000.0"
      ]
     },
     "execution_count": 22,
     "metadata": {},
     "output_type": "execute_result"
    }
   ],
   "source": [
    "# The biggest contributors:\n",
    "merged.groupby([\"contributor_firstname\", \"contributor_lastname\", \"committee_position\"]).amount.sum().reset_index().sort_values(\"amount\", ascending=False).head()"
   ]
  },
  {
   "cell_type": "markdown",
   "metadata": {},
   "source": [
    "Nope. The biggest contributers seams to support the ban. But can that really be true? Lets look at those who oppose."
   ]
  },
  {
   "cell_type": "code",
   "execution_count": 23,
   "metadata": {},
   "outputs": [
    {
     "data": {
      "text/html": [
       "<div>\n",
       "<style>\n",
       "    .dataframe thead tr:only-child th {\n",
       "        text-align: right;\n",
       "    }\n",
       "\n",
       "    .dataframe thead th {\n",
       "        text-align: left;\n",
       "    }\n",
       "\n",
       "    .dataframe tbody tr th {\n",
       "        vertical-align: top;\n",
       "    }\n",
       "</style>\n",
       "<table border=\"1\" class=\"dataframe\">\n",
       "  <thead>\n",
       "    <tr style=\"text-align: right;\">\n",
       "      <th></th>\n",
       "      <th>ocd_prop_id</th>\n",
       "      <th>calaccess_prop_id</th>\n",
       "      <th>ccdc_prop_id</th>\n",
       "      <th>prop_name</th>\n",
       "      <th>ccdc_committee_id</th>\n",
       "      <th>calaccess_committee_id</th>\n",
       "      <th>committee_name_x</th>\n",
       "      <th>committee_position</th>\n",
       "      <th>committee_name_y</th>\n",
       "      <th>calaccess_filing_id</th>\n",
       "      <th>date_received</th>\n",
       "      <th>contributor_lastname</th>\n",
       "      <th>contributor_firstname</th>\n",
       "      <th>contributor_city</th>\n",
       "      <th>contributor_state</th>\n",
       "      <th>contributor_zip</th>\n",
       "      <th>contributor_employer</th>\n",
       "      <th>contributor_occupation</th>\n",
       "      <th>contributor_is_self_employed</th>\n",
       "      <th>amount</th>\n",
       "    </tr>\n",
       "  </thead>\n",
       "  <tbody>\n",
       "    <tr>\n",
       "      <th>141</th>\n",
       "      <td>ocd-contest/7495cdbe-1aa7-4c26-9a55-aa4130347b95</td>\n",
       "      <td>1372638</td>\n",
       "      <td>86</td>\n",
       "      <td>PROPOSITION 067- REFERENDUM TO OVERTURN BAN ON...</td>\n",
       "      <td>478</td>\n",
       "      <td>1372902</td>\n",
       "      <td>AMERICAN PROGRESSIVE BAG ALLIANCE, A PROJECT O...</td>\n",
       "      <td>OPPOSE</td>\n",
       "      <td>AMERICAN PROGRESSIVE BAG ALLIANCE, A PROJECT O...</td>\n",
       "      <td>2038213</td>\n",
       "      <td>2016-01-25</td>\n",
       "      <td>FORMOSA PLASTICS CORPORATION U.S.A.</td>\n",
       "      <td>NaN</td>\n",
       "      <td>LIVINGSTON</td>\n",
       "      <td>NJ</td>\n",
       "      <td>7039</td>\n",
       "      <td>NaN</td>\n",
       "      <td>NaN</td>\n",
       "      <td>False</td>\n",
       "      <td>356441.5</td>\n",
       "    </tr>\n",
       "    <tr>\n",
       "      <th>132</th>\n",
       "      <td>ocd-contest/7495cdbe-1aa7-4c26-9a55-aa4130347b95</td>\n",
       "      <td>1372638</td>\n",
       "      <td>86</td>\n",
       "      <td>PROPOSITION 067- REFERENDUM TO OVERTURN BAN ON...</td>\n",
       "      <td>478</td>\n",
       "      <td>1372902</td>\n",
       "      <td>AMERICAN PROGRESSIVE BAG ALLIANCE, A PROJECT O...</td>\n",
       "      <td>OPPOSE</td>\n",
       "      <td>AMERICAN PROGRESSIVE BAG ALLIANCE, A PROJECT O...</td>\n",
       "      <td>2012817</td>\n",
       "      <td>2015-10-30</td>\n",
       "      <td>FORMOSA PLASTICS CORPORATION U.S.A.</td>\n",
       "      <td>NaN</td>\n",
       "      <td>LIVINGSTON</td>\n",
       "      <td>NJ</td>\n",
       "      <td>7039</td>\n",
       "      <td>NaN</td>\n",
       "      <td>NaN</td>\n",
       "      <td>False</td>\n",
       "      <td>350000.0</td>\n",
       "    </tr>\n",
       "    <tr>\n",
       "      <th>140</th>\n",
       "      <td>ocd-contest/7495cdbe-1aa7-4c26-9a55-aa4130347b95</td>\n",
       "      <td>1372638</td>\n",
       "      <td>86</td>\n",
       "      <td>PROPOSITION 067- REFERENDUM TO OVERTURN BAN ON...</td>\n",
       "      <td>478</td>\n",
       "      <td>1372902</td>\n",
       "      <td>AMERICAN PROGRESSIVE BAG ALLIANCE, A PROJECT O...</td>\n",
       "      <td>OPPOSE</td>\n",
       "      <td>AMERICAN PROGRESSIVE BAG ALLIANCE, A PROJECT O...</td>\n",
       "      <td>2038213</td>\n",
       "      <td>2016-01-13</td>\n",
       "      <td>HILEX POLY CO. LLC</td>\n",
       "      <td>NaN</td>\n",
       "      <td>HARTSVILLE</td>\n",
       "      <td>SC</td>\n",
       "      <td>29550</td>\n",
       "      <td>NaN</td>\n",
       "      <td>NaN</td>\n",
       "      <td>False</td>\n",
       "      <td>305675.0</td>\n",
       "    </tr>\n",
       "    <tr>\n",
       "      <th>142</th>\n",
       "      <td>ocd-contest/7495cdbe-1aa7-4c26-9a55-aa4130347b95</td>\n",
       "      <td>1372638</td>\n",
       "      <td>86</td>\n",
       "      <td>PROPOSITION 067- REFERENDUM TO OVERTURN BAN ON...</td>\n",
       "      <td>478</td>\n",
       "      <td>1372902</td>\n",
       "      <td>AMERICAN PROGRESSIVE BAG ALLIANCE, A PROJECT O...</td>\n",
       "      <td>OPPOSE</td>\n",
       "      <td>AMERICAN PROGRESSIVE BAG ALLIANCE, A PROJECT O...</td>\n",
       "      <td>2038213</td>\n",
       "      <td>2016-01-27</td>\n",
       "      <td>HILEX POLY CO. LLC</td>\n",
       "      <td>NaN</td>\n",
       "      <td>HARTSVILLE</td>\n",
       "      <td>SC</td>\n",
       "      <td>29550</td>\n",
       "      <td>NaN</td>\n",
       "      <td>NaN</td>\n",
       "      <td>False</td>\n",
       "      <td>299175.0</td>\n",
       "    </tr>\n",
       "    <tr>\n",
       "      <th>133</th>\n",
       "      <td>ocd-contest/7495cdbe-1aa7-4c26-9a55-aa4130347b95</td>\n",
       "      <td>1372638</td>\n",
       "      <td>86</td>\n",
       "      <td>PROPOSITION 067- REFERENDUM TO OVERTURN BAN ON...</td>\n",
       "      <td>478</td>\n",
       "      <td>1372902</td>\n",
       "      <td>AMERICAN PROGRESSIVE BAG ALLIANCE, A PROJECT O...</td>\n",
       "      <td>OPPOSE</td>\n",
       "      <td>AMERICAN PROGRESSIVE BAG ALLIANCE, A PROJECT O...</td>\n",
       "      <td>2012817</td>\n",
       "      <td>2015-11-17</td>\n",
       "      <td>HILEX POLY CO. LLC</td>\n",
       "      <td>NaN</td>\n",
       "      <td>HARTSVILLE</td>\n",
       "      <td>SC</td>\n",
       "      <td>29550</td>\n",
       "      <td>NaN</td>\n",
       "      <td>NaN</td>\n",
       "      <td>False</td>\n",
       "      <td>186585.0</td>\n",
       "    </tr>\n",
       "  </tbody>\n",
       "</table>\n",
       "</div>"
      ],
      "text/plain": [
       "                                          ocd_prop_id  calaccess_prop_id  \\\n",
       "141  ocd-contest/7495cdbe-1aa7-4c26-9a55-aa4130347b95            1372638   \n",
       "132  ocd-contest/7495cdbe-1aa7-4c26-9a55-aa4130347b95            1372638   \n",
       "140  ocd-contest/7495cdbe-1aa7-4c26-9a55-aa4130347b95            1372638   \n",
       "142  ocd-contest/7495cdbe-1aa7-4c26-9a55-aa4130347b95            1372638   \n",
       "133  ocd-contest/7495cdbe-1aa7-4c26-9a55-aa4130347b95            1372638   \n",
       "\n",
       "     ccdc_prop_id                                          prop_name  \\\n",
       "141            86  PROPOSITION 067- REFERENDUM TO OVERTURN BAN ON...   \n",
       "132            86  PROPOSITION 067- REFERENDUM TO OVERTURN BAN ON...   \n",
       "140            86  PROPOSITION 067- REFERENDUM TO OVERTURN BAN ON...   \n",
       "142            86  PROPOSITION 067- REFERENDUM TO OVERTURN BAN ON...   \n",
       "133            86  PROPOSITION 067- REFERENDUM TO OVERTURN BAN ON...   \n",
       "\n",
       "     ccdc_committee_id  calaccess_committee_id  \\\n",
       "141                478                 1372902   \n",
       "132                478                 1372902   \n",
       "140                478                 1372902   \n",
       "142                478                 1372902   \n",
       "133                478                 1372902   \n",
       "\n",
       "                                      committee_name_x committee_position  \\\n",
       "141  AMERICAN PROGRESSIVE BAG ALLIANCE, A PROJECT O...             OPPOSE   \n",
       "132  AMERICAN PROGRESSIVE BAG ALLIANCE, A PROJECT O...             OPPOSE   \n",
       "140  AMERICAN PROGRESSIVE BAG ALLIANCE, A PROJECT O...             OPPOSE   \n",
       "142  AMERICAN PROGRESSIVE BAG ALLIANCE, A PROJECT O...             OPPOSE   \n",
       "133  AMERICAN PROGRESSIVE BAG ALLIANCE, A PROJECT O...             OPPOSE   \n",
       "\n",
       "                                      committee_name_y  calaccess_filing_id  \\\n",
       "141  AMERICAN PROGRESSIVE BAG ALLIANCE, A PROJECT O...              2038213   \n",
       "132  AMERICAN PROGRESSIVE BAG ALLIANCE, A PROJECT O...              2012817   \n",
       "140  AMERICAN PROGRESSIVE BAG ALLIANCE, A PROJECT O...              2038213   \n",
       "142  AMERICAN PROGRESSIVE BAG ALLIANCE, A PROJECT O...              2038213   \n",
       "133  AMERICAN PROGRESSIVE BAG ALLIANCE, A PROJECT O...              2012817   \n",
       "\n",
       "    date_received                 contributor_lastname contributor_firstname  \\\n",
       "141    2016-01-25  FORMOSA PLASTICS CORPORATION U.S.A.                   NaN   \n",
       "132    2015-10-30  FORMOSA PLASTICS CORPORATION U.S.A.                   NaN   \n",
       "140    2016-01-13                   HILEX POLY CO. LLC                   NaN   \n",
       "142    2016-01-27                   HILEX POLY CO. LLC                   NaN   \n",
       "133    2015-11-17                   HILEX POLY CO. LLC                   NaN   \n",
       "\n",
       "    contributor_city contributor_state contributor_zip contributor_employer  \\\n",
       "141       LIVINGSTON                NJ            7039                  NaN   \n",
       "132       LIVINGSTON                NJ            7039                  NaN   \n",
       "140       HARTSVILLE                SC           29550                  NaN   \n",
       "142       HARTSVILLE                SC           29550                  NaN   \n",
       "133       HARTSVILLE                SC           29550                  NaN   \n",
       "\n",
       "    contributor_occupation  contributor_is_self_employed    amount  \n",
       "141                    NaN                         False  356441.5  \n",
       "132                    NaN                         False  350000.0  \n",
       "140                    NaN                         False  305675.0  \n",
       "142                    NaN                         False  299175.0  \n",
       "133                    NaN                         False  186585.0  "
      ]
     },
     "execution_count": 23,
     "metadata": {},
     "output_type": "execute_result"
    }
   ],
   "source": [
    "oppose = merged[merged.committee_position == 'OPPOSE']\n",
    "oppose.sort_values(\"amount\", ascending=False).head()"
   ]
  },
  {
   "cell_type": "markdown",
   "metadata": {},
   "source": [
    "Hm. The biggest contributers among those who oppose the ban give three times as much as the biggest supporters. So why didn´t I catch them in my last inquiry? It must be because its companies and that the values are missing in the field firstname.\n",
    "\n",
    "Let´s try again but only with the contributers last name."
   ]
  },
  {
   "cell_type": "code",
   "execution_count": 21,
   "metadata": {},
   "outputs": [
    {
     "data": {
      "text/html": [
       "<div>\n",
       "<style>\n",
       "    .dataframe thead tr:only-child th {\n",
       "        text-align: right;\n",
       "    }\n",
       "\n",
       "    .dataframe thead th {\n",
       "        text-align: left;\n",
       "    }\n",
       "\n",
       "    .dataframe tbody tr th {\n",
       "        vertical-align: top;\n",
       "    }\n",
       "</style>\n",
       "<table border=\"1\" class=\"dataframe\">\n",
       "  <thead>\n",
       "    <tr style=\"text-align: right;\">\n",
       "      <th></th>\n",
       "      <th>contributor_lastname</th>\n",
       "      <th>committee_position</th>\n",
       "      <th>amount</th>\n",
       "    </tr>\n",
       "  </thead>\n",
       "  <tbody>\n",
       "    <tr>\n",
       "      <th>713</th>\n",
       "      <td>HILEX POLY CO. LLC</td>\n",
       "      <td>OPPOSE</td>\n",
       "      <td>874769.00</td>\n",
       "    </tr>\n",
       "    <tr>\n",
       "      <th>522</th>\n",
       "      <td>FORMOSA PLASTICS CORPORATION U.S.A.</td>\n",
       "      <td>OPPOSE</td>\n",
       "      <td>748441.50</td>\n",
       "    </tr>\n",
       "    <tr>\n",
       "      <th>1534</th>\n",
       "      <td>SUPERBAG CORP.</td>\n",
       "      <td>OPPOSE</td>\n",
       "      <td>609369.75</td>\n",
       "    </tr>\n",
       "    <tr>\n",
       "      <th>12</th>\n",
       "      <td>ADVANCE POLYBAG, INC.</td>\n",
       "      <td>OPPOSE</td>\n",
       "      <td>446833.00</td>\n",
       "    </tr>\n",
       "    <tr>\n",
       "      <th>256</th>\n",
       "      <td>CALIFORNIA GROCERS ASSOCIATION</td>\n",
       "      <td>SUPPORT</td>\n",
       "      <td>200000.00</td>\n",
       "    </tr>\n",
       "  </tbody>\n",
       "</table>\n",
       "</div>"
      ],
      "text/plain": [
       "                     contributor_lastname committee_position     amount\n",
       "713                    HILEX POLY CO. LLC             OPPOSE  874769.00\n",
       "522   FORMOSA PLASTICS CORPORATION U.S.A.             OPPOSE  748441.50\n",
       "1534                       SUPERBAG CORP.             OPPOSE  609369.75\n",
       "12                  ADVANCE POLYBAG, INC.             OPPOSE  446833.00\n",
       "256        CALIFORNIA GROCERS ASSOCIATION            SUPPORT  200000.00"
      ]
     },
     "execution_count": 21,
     "metadata": {},
     "output_type": "execute_result"
    }
   ],
   "source": [
    "merged.groupby([\"contributor_lastname\", \"committee_position\"]).amount.sum().reset_index().sort_values(\"amount\", ascending=False).head()"
   ]
  },
  {
   "cell_type": "markdown",
   "metadata": {},
   "source": [
    "That was more like what I have expected.Tricky! "
   ]
  }
 ],
 "metadata": {
  "kernelspec": {
   "display_name": "Python 2",
   "language": "python",
   "name": "python2"
  },
  "language_info": {
   "codemirror_mode": {
    "name": "ipython",
    "version": 2
   },
   "file_extension": ".py",
   "mimetype": "text/x-python",
   "name": "python",
   "nbconvert_exporter": "python",
   "pygments_lexer": "ipython2",
   "version": "2.7.13"
  }
 },
 "nbformat": 4,
 "nbformat_minor": 2
}
